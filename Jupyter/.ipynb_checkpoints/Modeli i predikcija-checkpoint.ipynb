{
 "cells": [
  {
   "cell_type": "markdown",
   "id": "9cea6a22",
   "metadata": {},
   "source": [
    "# Projekat - Predviđanje srčane bolesti\n",
    "\n",
    "### Autor - Nenad Radović, RA18/2020"
   ]
  },
  {
   "cell_type": "markdown",
   "id": "606cfd24",
   "metadata": {},
   "source": [
    "## Modeli i predikcija\n",
    "\n",
    "### Učitavanje preprocesiranih podataka\n",
    "\n",
    "Učitajmo prethodno procesirane podatke."
   ]
  },
  {
   "cell_type": "code",
   "execution_count": 1,
   "id": "e74be330",
   "metadata": {},
   "outputs": [],
   "source": [
    "import pandas as pd\n",
    "import os\n",
    "\n",
    "dataset_lr = None\n",
    "dataset_kt = None\n",
    "\n",
    "if os.path.exists(path='data_for_lr.csv'):\n",
    "    dataset_lr = pd.read_csv(filepath_or_buffer='data_for_lr.csv')\n",
    "\n",
    "if os.path.exists(path='data_for_kt.csv'):\n",
    "    dataset_kt = pd.read_csv(filepath_or_buffer='data_for_kt.csv')"
   ]
  },
  {
   "cell_type": "markdown",
   "id": "5e92c389",
   "metadata": {},
   "source": [
    "Potrebno je sada izdvojiti *feature*-e od *target* kolone."
   ]
  },
  {
   "cell_type": "code",
   "execution_count": 2,
   "id": "eab90e53",
   "metadata": {},
   "outputs": [],
   "source": [
    "X_lr = dataset_lr.drop(labels=['HeartDisease'], axis='columns')\n",
    "y_lr = dataset_lr['HeartDisease']\n",
    "\n",
    "X_kt = dataset_kt.drop(labels=['HeartDisease'], axis='columns')\n",
    "y_kt = dataset_kt['HeartDisease']"
   ]
  },
  {
   "cell_type": "markdown",
   "id": "1bc6500e",
   "metadata": {},
   "source": [
    "Sada je potrebno napraviti trening i test skupove."
   ]
  },
  {
   "cell_type": "code",
   "execution_count": 3,
   "id": "b8d5d56f",
   "metadata": {},
   "outputs": [],
   "source": [
    "from sklearn.model_selection import train_test_split\n",
    "\n",
    "X_train_lr, X_test_lr, y_train_lr, y_test_lr = train_test_split(X_lr, y_lr, test_size=0.3, stratify=y_lr)\n",
    "\n",
    "X_train_kt, X_test_kt, y_train_kt, y_test_kt = train_test_split(X_kt, y_kt, test_size=0.3, stratify=y_kt)"
   ]
  },
  {
   "cell_type": "markdown",
   "id": "4cbda74b",
   "metadata": {},
   "source": [
    "### Modeli"
   ]
  },
  {
   "cell_type": "markdown",
   "id": "db415f4a",
   "metadata": {},
   "source": [
    "#### Logistička regresija\n",
    "\n",
    "Prvi model koji ćemo razmotriti jeste model logističke regresije. Učitajmo ga, *fit*-ujmo model i uradimo predikciju na *test* skupu."
   ]
  },
  {
   "cell_type": "code",
   "execution_count": 4,
   "id": "c318bb4f",
   "metadata": {},
   "outputs": [],
   "source": [
    "from sklearn.linear_model import LogisticRegression\n",
    "from sklearn.neighbors import KNeighborsClassifier\n",
    "from sklearn.tree import DecisionTreeClassifier\n",
    "\n",
    "model_lr = LogisticRegression()\n",
    "model_knn = KNeighborsClassifier()\n",
    "model_dt = DecisionTreeClassifier()"
   ]
  },
  {
   "cell_type": "markdown",
   "id": "adaae3e4",
   "metadata": {},
   "source": [
    "Bacimo se na podešavanje i pronalaženje optimalnih hiperparametara za naše modele."
   ]
  },
  {
   "cell_type": "code",
   "execution_count": 5,
   "id": "060ce9c5",
   "metadata": {},
   "outputs": [],
   "source": [
    "# Hiperparametri logističke regresije\n",
    "from sklearn.model_selection import GridSearchCV\n",
    "\n",
    "params_lr = [{\n",
    "    'C': [i/10 for i in range(1, 13)],\n",
    "    'tol': [i/100000 for i in range(1, 13)],\n",
    "    'solver': ['newton-cholesky', 'lbfgs']\n",
    "}]\n",
    "\n",
    "gs_lr = GridSearchCV(estimator=model_lr, param_grid=params_lr, cv=9).fit(X=X_train_lr, y=y_train_lr)"
   ]
  },
  {
   "cell_type": "markdown",
   "id": "929c9596",
   "metadata": {},
   "source": [
    "Najbolji parametri logističke regresije su"
   ]
  },
  {
   "cell_type": "code",
   "execution_count": 6,
   "id": "6e5952ac",
   "metadata": {},
   "outputs": [
    {
     "data": {
      "text/plain": [
       "{'C': 0.1, 'solver': 'newton-cholesky', 'tol': 1e-05}"
      ]
     },
     "execution_count": 6,
     "metadata": {},
     "output_type": "execute_result"
    }
   ],
   "source": [
    "gs_lr.best_params_"
   ]
  },
  {
   "cell_type": "markdown",
   "id": "bc04dd36",
   "metadata": {},
   "source": [
    "Sada smo našli optimalne parametre modela, te ćemo ga istrenirati i predvidjeti *target*-e na test skupu."
   ]
  },
  {
   "cell_type": "code",
   "execution_count": 7,
   "id": "164ede75",
   "metadata": {},
   "outputs": [],
   "source": [
    "model_lr.C = gs_lr.best_params_['C']\n",
    "model_lr.tol = gs_lr.best_params_['tol']\n",
    "model_lr.solver = gs_lr.best_params_['solver']\n",
    "\n",
    "model_lr.fit(X=X_train_lr, y=y_train_lr)\n",
    "y_pred_lr = model_lr.predict(X=X_test_lr)"
   ]
  },
  {
   "cell_type": "markdown",
   "id": "90d9e7fe",
   "metadata": {},
   "source": [
    "Model je sada kreiran i istreniran. Ispišimo neke od karakteristika modela - tačnost, preciznost, odziv, F1 rezultat, kao i matricu konfuzije. Naredne performanse će imati sufiks '*_bf*', što označava su performanse prije smanjivanja dimenzionalnosti modela, odnosno izabiranja najbitnijih *feature* kolona."
   ]
  },
  {
   "cell_type": "code",
   "execution_count": 8,
   "id": "18bc9064",
   "metadata": {},
   "outputs": [
    {
     "data": {
      "text/plain": [
       "0.8392857142857143"
      ]
     },
     "execution_count": 8,
     "metadata": {},
     "output_type": "execute_result"
    }
   ],
   "source": [
    "from sklearn.metrics import accuracy_score, precision_score, recall_score, f1_score, confusion_matrix\n",
    "\n",
    "as_lr_bf = accuracy_score(y_true=y_test_lr, y_pred=y_pred_lr)\n",
    "as_lr_bf"
   ]
  },
  {
   "cell_type": "code",
   "execution_count": 9,
   "id": "da2c9fdb",
   "metadata": {},
   "outputs": [
    {
     "data": {
      "text/plain": [
       "0.7933884297520661"
      ]
     },
     "execution_count": 9,
     "metadata": {},
     "output_type": "execute_result"
    }
   ],
   "source": [
    "ps_lr_bf = precision_score(y_true=y_test_lr, y_pred=y_pred_lr)\n",
    "ps_lr_bf"
   ]
  },
  {
   "cell_type": "code",
   "execution_count": 10,
   "id": "e8ca3f04",
   "metadata": {},
   "outputs": [
    {
     "data": {
      "text/plain": [
       "0.897196261682243"
      ]
     },
     "execution_count": 10,
     "metadata": {},
     "output_type": "execute_result"
    }
   ],
   "source": [
    "rs_lr_bf = recall_score(y_true=y_test_lr, y_pred=y_pred_lr)\n",
    "rs_lr_bf"
   ]
  },
  {
   "cell_type": "code",
   "execution_count": 11,
   "id": "87bab617",
   "metadata": {},
   "outputs": [
    {
     "data": {
      "text/plain": [
       "0.8421052631578947"
      ]
     },
     "execution_count": 11,
     "metadata": {},
     "output_type": "execute_result"
    }
   ],
   "source": [
    "f1s_lr_bf = f1_score(y_true=y_test_lr, y_pred=y_pred_lr)\n",
    "f1s_lr_bf"
   ]
  },
  {
   "cell_type": "code",
   "execution_count": 12,
   "id": "b9b1d833",
   "metadata": {},
   "outputs": [
    {
     "data": {
      "text/plain": [
       "array([[92, 25],\n",
       "       [11, 96]], dtype=int64)"
      ]
     },
     "execution_count": 12,
     "metadata": {},
     "output_type": "execute_result"
    }
   ],
   "source": [
    "cms_lr_bf = confusion_matrix(y_true=y_test_lr, y_pred=y_pred_lr)\n",
    "cms_lr_bf"
   ]
  },
  {
   "cell_type": "markdown",
   "id": "ca8eee5e",
   "metadata": {},
   "source": [
    "Uradimo iste postupke na modelu KNN, kao i na stablu odlučivanja."
   ]
  },
  {
   "cell_type": "markdown",
   "id": "987d6efa",
   "metadata": {},
   "source": [
    "#### KNN model"
   ]
  },
  {
   "cell_type": "code",
   "execution_count": 13,
   "id": "7d60b4da",
   "metadata": {
    "scrolled": true
   },
   "outputs": [],
   "source": [
    "# Hiperparametri KNN modela\n",
    "params_knn = [{\n",
    "    'n_neighbors': [2*i+1 for i in range(2, 12)],\n",
    "    'weights': ['uniform', 'distance'],\n",
    "    'algorithm': ['ball_tree', 'kd_tree', 'brute'],\n",
    "    'metric': ['euclidean', 'cityblock', 'manhattan']\n",
    "}]\n",
    "\n",
    "gs_knn = GridSearchCV(estimator=model_knn, param_grid=params_knn, cv=6).fit(X=X_train_kt, y=y_train_kt)"
   ]
  },
  {
   "cell_type": "markdown",
   "id": "642865f7",
   "metadata": {},
   "source": [
    "Najbolji parametri KNN modela su"
   ]
  },
  {
   "cell_type": "code",
   "execution_count": 14,
   "id": "317ddd6d",
   "metadata": {},
   "outputs": [
    {
     "data": {
      "text/plain": [
       "{'algorithm': 'ball_tree',\n",
       " 'metric': 'cityblock',\n",
       " 'n_neighbors': 13,\n",
       " 'weights': 'distance'}"
      ]
     },
     "execution_count": 14,
     "metadata": {},
     "output_type": "execute_result"
    }
   ],
   "source": [
    "gs_knn.best_params_"
   ]
  },
  {
   "cell_type": "code",
   "execution_count": 15,
   "id": "ec90b2ef",
   "metadata": {
    "scrolled": true
   },
   "outputs": [],
   "source": [
    "model_knn.n_neighbors = gs_knn.best_params_['n_neighbors']\n",
    "model_knn.weights = gs_knn.best_params_['weights']\n",
    "model_knn.algorithm = gs_knn.best_params_['algorithm']\n",
    "model_knn.metric = gs_knn.best_params_['metric']\n",
    "\n",
    "model_knn.fit(X=X_train_kt, y=y_train_kt)\n",
    "y_pred_knn = model_knn.predict(X=X_test_kt)"
   ]
  },
  {
   "cell_type": "code",
   "execution_count": 16,
   "id": "9bae5f4d",
   "metadata": {
    "scrolled": true
   },
   "outputs": [
    {
     "data": {
      "text/plain": [
       "0.8705357142857143"
      ]
     },
     "execution_count": 16,
     "metadata": {},
     "output_type": "execute_result"
    }
   ],
   "source": [
    "as_knn_bf = accuracy_score(y_true=y_test_kt, y_pred=y_pred_knn)\n",
    "as_knn_bf"
   ]
  },
  {
   "cell_type": "code",
   "execution_count": 17,
   "id": "fb156574",
   "metadata": {},
   "outputs": [
    {
     "data": {
      "text/plain": [
       "0.875"
      ]
     },
     "execution_count": 17,
     "metadata": {},
     "output_type": "execute_result"
    }
   ],
   "source": [
    "ps_knn_bf = precision_score(y_true=y_test_kt, y_pred=y_pred_knn)\n",
    "ps_knn_bf"
   ]
  },
  {
   "cell_type": "code",
   "execution_count": 18,
   "id": "e7f8eeab",
   "metadata": {},
   "outputs": [
    {
     "data": {
      "text/plain": [
       "0.8504672897196262"
      ]
     },
     "execution_count": 18,
     "metadata": {},
     "output_type": "execute_result"
    }
   ],
   "source": [
    "rs_knn_bf = recall_score(y_true=y_test_kt, y_pred=y_pred_knn)\n",
    "rs_knn_bf"
   ]
  },
  {
   "cell_type": "code",
   "execution_count": 19,
   "id": "5163dc8a",
   "metadata": {},
   "outputs": [
    {
     "data": {
      "text/plain": [
       "0.8625592417061612"
      ]
     },
     "execution_count": 19,
     "metadata": {},
     "output_type": "execute_result"
    }
   ],
   "source": [
    "f1s_knn_bf = f1_score(y_true=y_test_kt, y_pred=y_pred_knn)\n",
    "f1s_knn_bf"
   ]
  },
  {
   "cell_type": "code",
   "execution_count": 20,
   "id": "783f51b0",
   "metadata": {
    "scrolled": true
   },
   "outputs": [
    {
     "data": {
      "text/plain": [
       "array([[104,  13],\n",
       "       [ 16,  91]], dtype=int64)"
      ]
     },
     "execution_count": 20,
     "metadata": {},
     "output_type": "execute_result"
    }
   ],
   "source": [
    "cms_knn_bf = confusion_matrix(y_true=y_test_kt, y_pred=y_pred_knn)\n",
    "cms_knn_bf"
   ]
  },
  {
   "cell_type": "markdown",
   "id": "bfd19ad9",
   "metadata": {},
   "source": [
    "#### Stablo odluke"
   ]
  },
  {
   "cell_type": "code",
   "execution_count": 21,
   "id": "2b9d2ea4",
   "metadata": {},
   "outputs": [],
   "source": [
    "# Hiperparametri stabla odluke\n",
    "params_dt = [{\n",
    "    'criterion': ['gini', 'entropy', 'log_loss'],\n",
    "    'splitter': ['best', 'random'],\n",
    "    'ccp_alpha': [i/10 for i in range(1, 4)],\n",
    "    'max_depth': [i for i in range(3, 6)]\n",
    "}]\n",
    "\n",
    "gs_dt = GridSearchCV(estimator=model_dt, param_grid=params_dt, cv=8).fit(X=X_train_kt, y=y_train_kt)"
   ]
  },
  {
   "cell_type": "markdown",
   "id": "56b99354",
   "metadata": {},
   "source": [
    "Najbolji parametri modela stabla odlučivanja su"
   ]
  },
  {
   "cell_type": "code",
   "execution_count": 22,
   "id": "8372c396",
   "metadata": {},
   "outputs": [
    {
     "data": {
      "text/plain": [
       "{'ccp_alpha': 0.1, 'criterion': 'gini', 'max_depth': 3, 'splitter': 'best'}"
      ]
     },
     "execution_count": 22,
     "metadata": {},
     "output_type": "execute_result"
    }
   ],
   "source": [
    "gs_dt.best_params_"
   ]
  },
  {
   "cell_type": "code",
   "execution_count": 23,
   "id": "b31c1887",
   "metadata": {},
   "outputs": [],
   "source": [
    "model_dt.criterion = gs_dt.best_params_['criterion']\n",
    "model_dt.splitter = gs_dt.best_params_['splitter']\n",
    "model_dt.ccp_alpha = gs_dt.best_params_['ccp_alpha']\n",
    "model_dt.max_depth = gs_dt.best_params_['max_depth']\n",
    "\n",
    "model_dt.fit(X=X_train_kt, y=y_train_kt)\n",
    "y_pred_dt = model_dt.predict(X=X_test_kt)"
   ]
  },
  {
   "cell_type": "code",
   "execution_count": 24,
   "id": "3caafe8f",
   "metadata": {
    "scrolled": true
   },
   "outputs": [
    {
     "data": {
      "text/plain": [
       "0.8482142857142857"
      ]
     },
     "execution_count": 24,
     "metadata": {},
     "output_type": "execute_result"
    }
   ],
   "source": [
    "as_dt_bf = accuracy_score(y_true=y_test_kt, y_pred=y_pred_dt)\n",
    "as_dt_bf"
   ]
  },
  {
   "cell_type": "code",
   "execution_count": 25,
   "id": "3ba7b4be",
   "metadata": {},
   "outputs": [
    {
     "data": {
      "text/plain": [
       "0.8230088495575221"
      ]
     },
     "execution_count": 25,
     "metadata": {},
     "output_type": "execute_result"
    }
   ],
   "source": [
    "ps_dt_bf = precision_score(y_true=y_test_kt, y_pred=y_pred_dt)\n",
    "ps_dt_bf"
   ]
  },
  {
   "cell_type": "code",
   "execution_count": 26,
   "id": "8bd8a0d6",
   "metadata": {},
   "outputs": [
    {
     "data": {
      "text/plain": [
       "0.8691588785046729"
      ]
     },
     "execution_count": 26,
     "metadata": {},
     "output_type": "execute_result"
    }
   ],
   "source": [
    "rs_dt_bf = recall_score(y_true=y_test_kt, y_pred=y_pred_dt)\n",
    "rs_dt_bf"
   ]
  },
  {
   "cell_type": "code",
   "execution_count": 27,
   "id": "32bee983",
   "metadata": {
    "scrolled": true
   },
   "outputs": [
    {
     "data": {
      "text/plain": [
       "0.8454545454545455"
      ]
     },
     "execution_count": 27,
     "metadata": {},
     "output_type": "execute_result"
    }
   ],
   "source": [
    "f1s_dt_bf = f1_score(y_true=y_test_kt, y_pred=y_pred_dt)\n",
    "f1s_dt_bf"
   ]
  },
  {
   "cell_type": "code",
   "execution_count": 28,
   "id": "0bf03bf2",
   "metadata": {
    "scrolled": true
   },
   "outputs": [
    {
     "data": {
      "text/plain": [
       "array([[97, 20],\n",
       "       [14, 93]], dtype=int64)"
      ]
     },
     "execution_count": 28,
     "metadata": {},
     "output_type": "execute_result"
    }
   ],
   "source": [
    "cms_dt_bf = confusion_matrix(y_true=y_test_kt, y_pred=y_pred_dt)\n",
    "cms_dt_bf"
   ]
  },
  {
   "cell_type": "markdown",
   "id": "3c9094d2",
   "metadata": {},
   "source": [
    "Sva tri modela daju odlične rezultate pri testiranju, te ne ukazuju na *overfit* nad podacima."
   ]
  },
  {
   "cell_type": "markdown",
   "id": "82444967",
   "metadata": {},
   "source": [
    "Problem klasifikacije koji rješavamo zahtjeva dobre karakteristike jer je u pitanju ogromna težina problema - nemamo prostora za greške kada se radi o predviđanju toga da li pacijent ima srčanu bolest ili ne. Stoga, potrebno je da naš model pri greškama daje više ***false positive*** vrijednosti no ***false negative*** jer *biće **gora** stvar ako nekoga ko ima srčanu bolest nažalost otpišemo jer naš model predviđa da je nema (**false negative**) nego da uključimo u liječenje i one koji zapravo nemaju i kod kojih će se kasnije zaista ponovnim analizama utvrditi da nemaju (**false positive**).*"
   ]
  },
  {
   "cell_type": "markdown",
   "id": "cafbeb65",
   "metadata": {},
   "source": [
    "Iako želimo da postignemo savršenu \"preciznost\" (u kontekstu da nemamo ovakvih grešaka pri predviđanjima), naši modeli svakako pokazuju dobru karakteristiku da postoji više *false positive* vrijednosti no *false negative*."
   ]
  },
  {
   "cell_type": "markdown",
   "id": "8ab11c44",
   "metadata": {},
   "source": [
    "### Smanjenje dimenzionalnosti problema"
   ]
  },
  {
   "cell_type": "markdown",
   "id": "2ea5918d",
   "metadata": {},
   "source": [
    "Iako smo u pretprocesiranju podataka pokušali smanjiti dimenzionalnost problema određivanjem koleracije kako između *feature*-a i *target*-a, tako i između *feature*-a međusobno, sada ćemo pokušati drugom tehnikom da uvidimo da li možemo izbaciti određene *feature*-e ali opet zadržati dobre performanse modela. Tehnika koju ćemo koristiti jeste *SelectKBest*.\n",
    "\n",
    "Naš model posjeduje 19 *feature*-a trenutno, a mi ćemo za svaki model arbitrarno pokušati smanjiti ih na 10. Kasnije ćemo uporediti dobijene performanse i vidjeti u kojem stepenu smo ih uspjeli održati i nakon izbacivanja nekoliko *feature*-a.\n",
    "\n",
    "Kreiraćemo nove modele i uporediti njihove performanse sa starim. Naravno, preuzećemo prethodno nađene optimalne hiperparametre starih modela i unijeti ih u nove."
   ]
  },
  {
   "cell_type": "code",
   "execution_count": 29,
   "id": "32cd53ec",
   "metadata": {},
   "outputs": [],
   "source": [
    "new_model_lr = LogisticRegression()\n",
    "new_model_knn = KNeighborsClassifier()\n",
    "new_model_dt = DecisionTreeClassifier()\n",
    "\n",
    "# Preuzimanje hiperparametara modela logističke regresije\n",
    "new_model_lr.C = gs_lr.best_params_['C']\n",
    "new_model_lr.tol = gs_lr.best_params_['tol']\n",
    "new_model_lr.solver = gs_lr.best_params_['solver']\n",
    "\n",
    "# Preuzimanje hiperparametara KNN modela\n",
    "new_model_knn.n_neighbors = gs_knn.best_params_['n_neighbors']\n",
    "new_model_knn.weights = gs_knn.best_params_['weights']\n",
    "new_model_knn.algorithm = gs_knn.best_params_['algorithm']\n",
    "new_model_knn.metric = gs_knn.best_params_['metric']\n",
    "\n",
    "# Preuzimanje hiperparametara modela stabla odluke\n",
    "new_model_dt.criterion = gs_dt.best_params_['criterion']\n",
    "new_model_dt.splitter = gs_dt.best_params_['splitter']\n",
    "new_model_dt.ccp_alpha = gs_dt.best_params_['ccp_alpha']\n",
    "new_model_dt.max_depth = gs_dt.best_params_['max_depth']"
   ]
  },
  {
   "cell_type": "markdown",
   "id": "d76b572a",
   "metadata": {},
   "source": [
    "#### Logistička regresija"
   ]
  },
  {
   "cell_type": "code",
   "execution_count": 30,
   "id": "e9e66aff",
   "metadata": {
    "scrolled": false
   },
   "outputs": [
    {
     "data": {
      "text/html": [
       "<div>\n",
       "<style scoped>\n",
       "    .dataframe tbody tr th:only-of-type {\n",
       "        vertical-align: middle;\n",
       "    }\n",
       "\n",
       "    .dataframe tbody tr th {\n",
       "        vertical-align: top;\n",
       "    }\n",
       "\n",
       "    .dataframe thead th {\n",
       "        text-align: right;\n",
       "    }\n",
       "</style>\n",
       "<table border=\"1\" class=\"dataframe\">\n",
       "  <thead>\n",
       "    <tr style=\"text-align: right;\">\n",
       "      <th></th>\n",
       "      <th>Age</th>\n",
       "      <th>FastingBS</th>\n",
       "      <th>MaxHR</th>\n",
       "      <th>Oldpeak</th>\n",
       "      <th>Sex_M</th>\n",
       "      <th>ChestPainType_ATA</th>\n",
       "      <th>ChestPainType_NAP</th>\n",
       "      <th>ExerciseAngina_Y</th>\n",
       "      <th>ST_Slope_Flat</th>\n",
       "      <th>ST_Slope_Up</th>\n",
       "    </tr>\n",
       "  </thead>\n",
       "  <tbody>\n",
       "    <tr>\n",
       "      <th>308</th>\n",
       "      <td>0.461538</td>\n",
       "      <td>0</td>\n",
       "      <td>-0.578947</td>\n",
       "      <td>0.666667</td>\n",
       "      <td>True</td>\n",
       "      <td>False</td>\n",
       "      <td>False</td>\n",
       "      <td>True</td>\n",
       "      <td>True</td>\n",
       "      <td>False</td>\n",
       "    </tr>\n",
       "    <tr>\n",
       "      <th>371</th>\n",
       "      <td>0.538462</td>\n",
       "      <td>1</td>\n",
       "      <td>-0.526316</td>\n",
       "      <td>-0.333333</td>\n",
       "      <td>False</td>\n",
       "      <td>True</td>\n",
       "      <td>False</td>\n",
       "      <td>True</td>\n",
       "      <td>False</td>\n",
       "      <td>True</td>\n",
       "    </tr>\n",
       "    <tr>\n",
       "      <th>153</th>\n",
       "      <td>-1.000000</td>\n",
       "      <td>0</td>\n",
       "      <td>0.526316</td>\n",
       "      <td>-0.333333</td>\n",
       "      <td>True</td>\n",
       "      <td>True</td>\n",
       "      <td>False</td>\n",
       "      <td>False</td>\n",
       "      <td>False</td>\n",
       "      <td>True</td>\n",
       "    </tr>\n",
       "    <tr>\n",
       "      <th>130</th>\n",
       "      <td>-1.230769</td>\n",
       "      <td>0</td>\n",
       "      <td>-0.263158</td>\n",
       "      <td>-0.333333</td>\n",
       "      <td>True</td>\n",
       "      <td>False</td>\n",
       "      <td>True</td>\n",
       "      <td>False</td>\n",
       "      <td>False</td>\n",
       "      <td>True</td>\n",
       "    </tr>\n",
       "    <tr>\n",
       "      <th>609</th>\n",
       "      <td>-0.076923</td>\n",
       "      <td>1</td>\n",
       "      <td>0.315789</td>\n",
       "      <td>0.466667</td>\n",
       "      <td>True</td>\n",
       "      <td>False</td>\n",
       "      <td>True</td>\n",
       "      <td>False</td>\n",
       "      <td>False</td>\n",
       "      <td>False</td>\n",
       "    </tr>\n",
       "  </tbody>\n",
       "</table>\n",
       "</div>"
      ],
      "text/plain": [
       "          Age  FastingBS     MaxHR   Oldpeak  Sex_M  ChestPainType_ATA  \\\n",
       "308  0.461538          0 -0.578947  0.666667   True              False   \n",
       "371  0.538462          1 -0.526316 -0.333333  False               True   \n",
       "153 -1.000000          0  0.526316 -0.333333   True               True   \n",
       "130 -1.230769          0 -0.263158 -0.333333   True              False   \n",
       "609 -0.076923          1  0.315789  0.466667   True              False   \n",
       "\n",
       "     ChestPainType_NAP  ExerciseAngina_Y  ST_Slope_Flat  ST_Slope_Up  \n",
       "308              False              True           True        False  \n",
       "371              False              True          False         True  \n",
       "153              False             False          False         True  \n",
       "130               True             False          False         True  \n",
       "609               True             False          False        False  "
      ]
     },
     "execution_count": 30,
     "metadata": {},
     "output_type": "execute_result"
    }
   ],
   "source": [
    "from sklearn.feature_selection import SelectKBest, f_classif\n",
    "\n",
    "k_best_lr = SelectKBest(score_func=f_classif, k=10)\n",
    "k_best_lr.fit_transform(X=X_train_lr, y=y_train_lr)\n",
    "\n",
    "new_X_train_lr = X_train_lr.iloc[:, k_best_lr.get_support(indices=True)]\n",
    "new_X_test_lr = X_test_lr.iloc[:, k_best_lr.get_support(indices=True)]\n",
    "\n",
    "new_X_train_lr.head()"
   ]
  },
  {
   "cell_type": "code",
   "execution_count": 31,
   "id": "3049f5a9",
   "metadata": {},
   "outputs": [],
   "source": [
    "new_model_lr.fit(X=new_X_train_lr, y=y_train_lr)\n",
    "new_y_pred_lr = new_model_lr.predict(X=new_X_test_lr)"
   ]
  },
  {
   "cell_type": "markdown",
   "id": "84b92d6f",
   "metadata": {},
   "source": [
    "Uporedimo performanse starog modela sa više *feature*-a i novog modela sa manje pomenutih tako što ćemo oduzeti prethodne performanse od trenutnih. Ako dobijemo negativnu razliku, znači da je model poboljšao performanse - u suprotnom, \"gore\" su."
   ]
  },
  {
   "cell_type": "code",
   "execution_count": 32,
   "id": "4989c3f1",
   "metadata": {},
   "outputs": [
    {
     "data": {
      "text/plain": [
       "0.0"
      ]
     },
     "execution_count": 32,
     "metadata": {},
     "output_type": "execute_result"
    }
   ],
   "source": [
    "as_lr_bf - accuracy_score(y_true=y_test_lr, y_pred=new_y_pred_lr)"
   ]
  },
  {
   "cell_type": "code",
   "execution_count": 33,
   "id": "5279da75",
   "metadata": {},
   "outputs": [
    {
     "data": {
      "text/plain": [
       "-0.00493089797902635"
      ]
     },
     "execution_count": 33,
     "metadata": {},
     "output_type": "execute_result"
    }
   ],
   "source": [
    "ps_lr_bf - precision_score(y_true=y_test_lr, y_pred=new_y_pred_lr)"
   ]
  },
  {
   "cell_type": "code",
   "execution_count": 34,
   "id": "06dbdb09",
   "metadata": {
    "scrolled": true
   },
   "outputs": [
    {
     "data": {
      "text/plain": [
       "0.009345794392523366"
      ]
     },
     "execution_count": 34,
     "metadata": {},
     "output_type": "execute_result"
    }
   ],
   "source": [
    "rs_lr_bf - recall_score(y_true=y_test_lr, y_pred=new_y_pred_lr)"
   ]
  },
  {
   "cell_type": "code",
   "execution_count": 35,
   "id": "557b10ca",
   "metadata": {},
   "outputs": [
    {
     "data": {
      "text/plain": [
       "0.0013972985561248041"
      ]
     },
     "execution_count": 35,
     "metadata": {},
     "output_type": "execute_result"
    }
   ],
   "source": [
    "f1s_lr_bf - f1_score(y_true=y_test_lr, y_pred=new_y_pred_lr)"
   ]
  },
  {
   "cell_type": "code",
   "execution_count": 36,
   "id": "5c50cfb2",
   "metadata": {
    "scrolled": true
   },
   "outputs": [
    {
     "data": {
      "text/plain": [
       "array([[-1,  1],\n",
       "       [-1,  1]], dtype=int64)"
      ]
     },
     "execution_count": 36,
     "metadata": {},
     "output_type": "execute_result"
    }
   ],
   "source": [
    "cms_lr_bf - confusion_matrix(y_true=y_test_lr, y_pred=new_y_pred_lr)"
   ]
  },
  {
   "cell_type": "markdown",
   "id": "8684e9ec",
   "metadata": {},
   "source": [
    "Očigledno je da su razlike performansi gotovo nepostojeće te ne gubimo validnost modela pri smanjenju dimenzionalnosti. Provjerimo kakav je slučaj kod KNN modela, kao i stabla odlučivanja."
   ]
  },
  {
   "cell_type": "markdown",
   "id": "62c3a246",
   "metadata": {},
   "source": [
    "#### KNN model i stablo odlučivanja"
   ]
  },
  {
   "cell_type": "code",
   "execution_count": 37,
   "id": "18e65d7c",
   "metadata": {
    "scrolled": true
   },
   "outputs": [
    {
     "data": {
      "text/html": [
       "<div>\n",
       "<style scoped>\n",
       "    .dataframe tbody tr th:only-of-type {\n",
       "        vertical-align: middle;\n",
       "    }\n",
       "\n",
       "    .dataframe tbody tr th {\n",
       "        vertical-align: top;\n",
       "    }\n",
       "\n",
       "    .dataframe thead th {\n",
       "        text-align: right;\n",
       "    }\n",
       "</style>\n",
       "<table border=\"1\" class=\"dataframe\">\n",
       "  <thead>\n",
       "    <tr style=\"text-align: right;\">\n",
       "      <th></th>\n",
       "      <th>MaxHR</th>\n",
       "      <th>Oldpeak</th>\n",
       "      <th>Sex_F</th>\n",
       "      <th>Sex_M</th>\n",
       "      <th>ChestPainType_ASY</th>\n",
       "      <th>ChestPainType_ATA</th>\n",
       "      <th>ExerciseAngina_N</th>\n",
       "      <th>ExerciseAngina_Y</th>\n",
       "      <th>ST_Slope_Flat</th>\n",
       "      <th>ST_Slope_Up</th>\n",
       "    </tr>\n",
       "  </thead>\n",
       "  <tbody>\n",
       "    <tr>\n",
       "      <th>496</th>\n",
       "      <td>0.921053</td>\n",
       "      <td>0.066667</td>\n",
       "      <td>True</td>\n",
       "      <td>False</td>\n",
       "      <td>False</td>\n",
       "      <td>True</td>\n",
       "      <td>True</td>\n",
       "      <td>False</td>\n",
       "      <td>True</td>\n",
       "      <td>False</td>\n",
       "    </tr>\n",
       "    <tr>\n",
       "      <th>4</th>\n",
       "      <td>-0.473684</td>\n",
       "      <td>-0.333333</td>\n",
       "      <td>False</td>\n",
       "      <td>True</td>\n",
       "      <td>False</td>\n",
       "      <td>False</td>\n",
       "      <td>True</td>\n",
       "      <td>False</td>\n",
       "      <td>False</td>\n",
       "      <td>True</td>\n",
       "    </tr>\n",
       "    <tr>\n",
       "      <th>538</th>\n",
       "      <td>0.289474</td>\n",
       "      <td>-0.066667</td>\n",
       "      <td>False</td>\n",
       "      <td>True</td>\n",
       "      <td>True</td>\n",
       "      <td>False</td>\n",
       "      <td>True</td>\n",
       "      <td>False</td>\n",
       "      <td>True</td>\n",
       "      <td>False</td>\n",
       "    </tr>\n",
       "    <tr>\n",
       "      <th>303</th>\n",
       "      <td>0.000000</td>\n",
       "      <td>0.000000</td>\n",
       "      <td>False</td>\n",
       "      <td>True</td>\n",
       "      <td>True</td>\n",
       "      <td>False</td>\n",
       "      <td>False</td>\n",
       "      <td>True</td>\n",
       "      <td>True</td>\n",
       "      <td>False</td>\n",
       "    </tr>\n",
       "    <tr>\n",
       "      <th>256</th>\n",
       "      <td>0.842105</td>\n",
       "      <td>-0.333333</td>\n",
       "      <td>False</td>\n",
       "      <td>True</td>\n",
       "      <td>False</td>\n",
       "      <td>False</td>\n",
       "      <td>True</td>\n",
       "      <td>False</td>\n",
       "      <td>False</td>\n",
       "      <td>True</td>\n",
       "    </tr>\n",
       "  </tbody>\n",
       "</table>\n",
       "</div>"
      ],
      "text/plain": [
       "        MaxHR   Oldpeak  Sex_F  Sex_M  ChestPainType_ASY  ChestPainType_ATA  \\\n",
       "496  0.921053  0.066667   True  False              False               True   \n",
       "4   -0.473684 -0.333333  False   True              False              False   \n",
       "538  0.289474 -0.066667  False   True               True              False   \n",
       "303  0.000000  0.000000  False   True               True              False   \n",
       "256  0.842105 -0.333333  False   True              False              False   \n",
       "\n",
       "     ExerciseAngina_N  ExerciseAngina_Y  ST_Slope_Flat  ST_Slope_Up  \n",
       "496              True             False           True        False  \n",
       "4                True             False          False         True  \n",
       "538              True             False           True        False  \n",
       "303             False              True           True        False  \n",
       "256              True             False          False         True  "
      ]
     },
     "execution_count": 37,
     "metadata": {},
     "output_type": "execute_result"
    }
   ],
   "source": [
    "k_best_kt = SelectKBest(score_func=f_classif, k=10)\n",
    "k_best_kt.fit_transform(X=X_train_kt, y=y_train_kt)\n",
    "\n",
    "new_X_train_kt = X_train_kt.iloc[:, k_best_kt.get_support(indices=True)]\n",
    "new_X_test_kt = X_test_kt.iloc[:, k_best_kt.get_support(indices=True)]\n",
    "\n",
    "new_X_train_kt.head()"
   ]
  },
  {
   "cell_type": "code",
   "execution_count": 38,
   "id": "4af09b1d",
   "metadata": {},
   "outputs": [],
   "source": [
    "new_model_knn.fit(X=new_X_train_kt, y=y_train_kt)\n",
    "new_model_dt.fit(X=new_X_train_kt, y=y_train_kt)\n",
    "\n",
    "new_y_pred_knn = new_model_knn.predict(X=new_X_test_kt)\n",
    "new_y_pred_dt = new_model_dt.predict(X=new_X_test_kt)"
   ]
  },
  {
   "cell_type": "markdown",
   "id": "ab4031ae",
   "metadata": {},
   "source": [
    "KNN model"
   ]
  },
  {
   "cell_type": "code",
   "execution_count": 39,
   "id": "cef9d653",
   "metadata": {},
   "outputs": [
    {
     "data": {
      "text/plain": [
       "0.008928571428571397"
      ]
     },
     "execution_count": 39,
     "metadata": {},
     "output_type": "execute_result"
    }
   ],
   "source": [
    "as_knn_bf - accuracy_score(y_true=y_test_kt, y_pred=new_y_pred_knn)"
   ]
  },
  {
   "cell_type": "code",
   "execution_count": 40,
   "id": "5f71e97a",
   "metadata": {},
   "outputs": [
    {
     "data": {
      "text/plain": [
       "0.01650943396226412"
      ]
     },
     "execution_count": 40,
     "metadata": {},
     "output_type": "execute_result"
    }
   ],
   "source": [
    "ps_knn_bf - precision_score(y_true=y_test_kt, y_pred=new_y_pred_knn)"
   ]
  },
  {
   "cell_type": "code",
   "execution_count": 41,
   "id": "53eafe8f",
   "metadata": {},
   "outputs": [
    {
     "data": {
      "text/plain": [
       "0.0"
      ]
     },
     "execution_count": 41,
     "metadata": {},
     "output_type": "execute_result"
    }
   ],
   "source": [
    "rs_knn_bf - recall_score(y_true=y_test_kt, y_pred=new_y_pred_knn)"
   ]
  },
  {
   "cell_type": "code",
   "execution_count": 42,
   "id": "de97c8d9",
   "metadata": {},
   "outputs": [
    {
     "data": {
      "text/plain": [
       "0.008099147809447538"
      ]
     },
     "execution_count": 42,
     "metadata": {},
     "output_type": "execute_result"
    }
   ],
   "source": [
    "f1s_knn_bf - f1_score(y_true=y_test_kt, y_pred=new_y_pred_knn)"
   ]
  },
  {
   "cell_type": "code",
   "execution_count": 43,
   "id": "4da25dec",
   "metadata": {
    "scrolled": true
   },
   "outputs": [
    {
     "data": {
      "text/plain": [
       "array([[ 2, -2],\n",
       "       [ 0,  0]], dtype=int64)"
      ]
     },
     "execution_count": 43,
     "metadata": {},
     "output_type": "execute_result"
    }
   ],
   "source": [
    "cms_knn_bf - confusion_matrix(y_true=y_test_kt, y_pred=new_y_pred_knn)"
   ]
  },
  {
   "cell_type": "markdown",
   "id": "0ab3d42f",
   "metadata": {},
   "source": [
    "Model stabla odluke"
   ]
  },
  {
   "cell_type": "code",
   "execution_count": 44,
   "id": "47f9d845",
   "metadata": {},
   "outputs": [
    {
     "data": {
      "text/plain": [
       "0.0"
      ]
     },
     "execution_count": 44,
     "metadata": {},
     "output_type": "execute_result"
    }
   ],
   "source": [
    "as_dt_bf - accuracy_score(y_true=y_test_kt, y_pred=new_y_pred_dt)"
   ]
  },
  {
   "cell_type": "code",
   "execution_count": 45,
   "id": "f3b3a9b5",
   "metadata": {},
   "outputs": [
    {
     "data": {
      "text/plain": [
       "0.0"
      ]
     },
     "execution_count": 45,
     "metadata": {},
     "output_type": "execute_result"
    }
   ],
   "source": [
    "ps_dt_bf - precision_score(y_true=y_test_kt, y_pred=new_y_pred_dt)"
   ]
  },
  {
   "cell_type": "code",
   "execution_count": 46,
   "id": "e159143f",
   "metadata": {},
   "outputs": [
    {
     "data": {
      "text/plain": [
       "0.0"
      ]
     },
     "execution_count": 46,
     "metadata": {},
     "output_type": "execute_result"
    }
   ],
   "source": [
    "rs_dt_bf - recall_score(y_true=y_test_kt, y_pred=new_y_pred_dt)"
   ]
  },
  {
   "cell_type": "code",
   "execution_count": 47,
   "id": "71f362ea",
   "metadata": {},
   "outputs": [
    {
     "data": {
      "text/plain": [
       "0.0"
      ]
     },
     "execution_count": 47,
     "metadata": {},
     "output_type": "execute_result"
    }
   ],
   "source": [
    "f1s_dt_bf - f1_score(y_true=y_test_kt, y_pred=new_y_pred_dt)"
   ]
  },
  {
   "cell_type": "code",
   "execution_count": 48,
   "id": "9e81a8e0",
   "metadata": {
    "scrolled": true
   },
   "outputs": [
    {
     "data": {
      "text/plain": [
       "array([[0, 0],\n",
       "       [0, 0]], dtype=int64)"
      ]
     },
     "execution_count": 48,
     "metadata": {},
     "output_type": "execute_result"
    }
   ],
   "source": [
    "cms_dt_bf - confusion_matrix(y_true=y_test_kt, y_pred=new_y_pred_dt)"
   ]
  },
  {
   "cell_type": "markdown",
   "id": "a83813c3",
   "metadata": {},
   "source": [
    "Za svaki model dobijamo da su maksimalna odstupanja u rangu od &plusmn;3%, što znači da smo uspjeli smanjiti dimenzionalnost problema bez značajnog gubitka na performansama. Korisniku ostavljamo da pokuša da još više degradira dimenzionalnost te uporedi performanse."
   ]
  },
  {
   "cell_type": "markdown",
   "id": "e32c4485",
   "metadata": {},
   "source": [
    "### Finalni zaključak"
   ]
  },
  {
   "cell_type": "markdown",
   "id": "49563041",
   "metadata": {},
   "source": [
    "Modeli koji se najuspješnije pokazuju kroz mnogostruka testiranja jesu model logističke regresije, kao i KNN model. Generalno se najlošije pokazuje model stabla odluke, ali ne za ogroman gubitak performansi. Zaključak jeste da modeli mogu vrlo dobro (do 90% preciznosti, *napomena da preciznost nije uvijek dobar indikator dobrog modela*) opisati sistem i predvidjeti da li neko ima srčanu bolest, uz mali procenat pogrešnih procjena. "
   ]
  }
 ],
 "metadata": {
  "kernelspec": {
   "display_name": "Python 3 (ipykernel)",
   "language": "python",
   "name": "python3"
  },
  "language_info": {
   "codemirror_mode": {
    "name": "ipython",
    "version": 3
   },
   "file_extension": ".py",
   "mimetype": "text/x-python",
   "name": "python",
   "nbconvert_exporter": "python",
   "pygments_lexer": "ipython3",
   "version": "3.11.3"
  }
 },
 "nbformat": 4,
 "nbformat_minor": 5
}
